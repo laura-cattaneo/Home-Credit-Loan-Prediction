{
 "cells": [
  {
   "cell_type": "markdown",
   "metadata": {},
   "source": [
    "## Load Libraries and Data Sets"
   ]
  },
  {
   "cell_type": "code",
   "execution_count": 1,
   "metadata": {},
   "outputs": [],
   "source": [
    "import numpy as np\n",
    "import pandas as pd\n",
    "from lightgbm import LGBMClassifier\n",
    "from skopt import BayesSearchCV\n",
    "from sklearn.model_selection import GridSearchCV, RandomizedSearchCV, KFold, train_test_split, cross_val_score\n",
    "from sklearn.metrics import roc_auc_score, roc_curve, plot_roc_curve, \n",
    "from sklearn.decomposition import PCA\n",
    "from sklearn import tree\n",
    "from sklearn import linear_model\n",
    "from sklearn import neighbors, datasets\n",
    "from sklearn.svm import SVC\n",
    "from tqdm import tqdm\n",
    "from sklearn import preprocessing"
   ]
  },
  {
   "cell_type": "code",
   "execution_count": 5,
   "metadata": {},
   "outputs": [],
   "source": [
    "# data from the feature engineering notebook\n",
    "train_feat = pd.read_pickle(\"train_feat3.pkl\")\n",
    "train_lab = pd.read_pickle(\"train_lab3.pkl\")\n",
    "test_feat = pd.read_pickle(\"test_feat3.pkl\")"
   ]
  },
  {
   "cell_type": "code",
   "execution_count": 21,
   "metadata": {},
   "outputs": [],
   "source": [
    "# Sample some of the data for nested cross validation\n",
    "X_non, X_sample, y_non, y_sample = train_test_split(train_feat, train_lab, test_size = 0.05,random_state = 6420)"
   ]
  },
  {
   "cell_type": "code",
   "execution_count": 23,
   "metadata": {},
   "outputs": [
    {
     "data": {
      "text/plain": [
       "0.07986472424557753"
      ]
     },
     "execution_count": 23,
     "metadata": {},
     "output_type": "execute_result"
    }
   ],
   "source": [
    "sum(y_sample)/len(y_sample)"
   ]
  },
  {
   "cell_type": "markdown",
   "metadata": {},
   "source": [
    "## Set up Nested Cross Validation"
   ]
  },
  {
   "cell_type": "code",
   "execution_count": 24,
   "metadata": {},
   "outputs": [],
   "source": [
    "# training testing split\n",
    "X_train, X_test, Y_train, Y_test = train_test_split(X_sample, y_sample, test_size = 0.2, random_state=6420)"
   ]
  },
  {
   "cell_type": "code",
   "execution_count": 25,
   "metadata": {},
   "outputs": [],
   "source": [
    "# standardize features\n",
    "std_scale = preprocessing.StandardScaler().fit(X_train)\n",
    "X_train_std = std_scale.transform(X_train)\n",
    "X_test_std = std_scale.transform(X_test)"
   ]
  },
  {
   "cell_type": "code",
   "execution_count": 26,
   "metadata": {},
   "outputs": [
    {
     "data": {
      "text/plain": [
       "0    0.467999\n",
       "dtype: float64"
      ]
     },
     "execution_count": 26,
     "metadata": {},
     "output_type": "execute_result"
    }
   ],
   "source": [
    "# use PCA to cut down number of features to try in NCV\n",
    "pca = PCA()\n",
    "X_train_pca = pca.fit_transform(X_train)\n",
    "X_test_pca = pca.transform(X_test)\n",
    "pd.DataFrame(pca.explained_variance_ratio_)[:20].sum()"
   ]
  },
  {
   "cell_type": "code",
   "execution_count": 27,
   "metadata": {},
   "outputs": [
    {
     "data": {
      "text/plain": [
       "0    0.274606\n",
       "dtype: float64"
      ]
     },
     "execution_count": 27,
     "metadata": {},
     "output_type": "execute_result"
    }
   ],
   "source": [
    "pca_std = PCA()\n",
    "X_train_std_pca = pca_std.fit_transform(X_train_std)\n",
    "X_test_std_pca = pca_std.transform(X_test_std)\n",
    "pd.DataFrame(pca_std.explained_variance_ratio_)[:20].sum()"
   ]
  },
  {
   "cell_type": "code",
   "execution_count": 28,
   "metadata": {},
   "outputs": [],
   "source": [
    "# choosing top 20 PCA transformed, standardized features for NCV\n",
    "pca_std = PCA(20)\n",
    "X_train_std_pca = pca_std.fit_transform(X_train_std)\n",
    "X_test_std_pca = pca_std.transform(X_test_std)"
   ]
  },
  {
   "cell_type": "code",
   "execution_count": 29,
   "metadata": {},
   "outputs": [],
   "source": [
    "# initiate models\n",
    "dt = tree.DecisionTreeClassifier(random_state=6420)\n",
    "lr = linear_model.LogisticRegression(random_state = 6420)\n",
    "knn = neighbors.KNeighborsClassifier()\n",
    "svc = SVC()\n",
    "lgbm = LGBMClassifier()"
   ]
  },
  {
   "cell_type": "code",
   "execution_count": 43,
   "metadata": {},
   "outputs": [],
   "source": [
    "# set up grids\n",
    "dt_grid = {'criterion': ['gini', 'entropy'], 'max_depth': range(1, 55, 10)}\n",
    "knn_grid = {'n_neighbors': range(1, 55, 10), 'weights': [\"uniform\", \"distance\"]}\n",
    "lr_grid = {'C': [0.1, 1, 10, 100, 1000]}\n",
    "svc_grid = {'C': [0.1, 1, 10, 100, 1000],  \n",
    "            'gamma': [1, 0.1, 0.01, 0.001, 0.0001], \n",
    "            'kernel': ['rbf']}\n",
    "lgbm_grid = {'boosting_type': ['gbdt', 'dart', 'goss'],\n",
    "             'num_leaves': range(50, 500, 50),\n",
    "             'min_child_samples': range(100, 1000, 250),\n",
    "             'scale_pos_weight': range(1, 15, 3),\n",
    "             'n_estimators': [100, 200, 500]}"
   ]
  },
  {
   "cell_type": "code",
   "execution_count": 44,
   "metadata": {},
   "outputs": [],
   "source": [
    "NUM_TRIALS = 5\n",
    "dt_non_nested_scores = np.zeros(NUM_TRIALS)\n",
    "dt_nested_scores = np.zeros(NUM_TRIALS)\n",
    "knn_non_nested_scores = np.zeros(NUM_TRIALS)\n",
    "knn_nested_scores = np.zeros(NUM_TRIALS)\n",
    "lr_non_nested_scores = np.zeros(NUM_TRIALS)\n",
    "lr_nested_scores = np.zeros(NUM_TRIALS)\n",
    "svc_non_nested_scores = np.zeros(NUM_TRIALS)\n",
    "svc_nested_scores = np.zeros(NUM_TRIALS)\n",
    "lgbm_non_nested_scores = np.zeros(NUM_TRIALS)\n",
    "lgbm_nested_scores = np.zeros(NUM_TRIALS)"
   ]
  },
  {
   "cell_type": "code",
   "execution_count": 45,
   "metadata": {},
   "outputs": [
    {
     "name": "stderr",
     "output_type": "stream",
     "text": [
      "\n",
      "\n",
      "\n",
      "\n",
      "\n",
      "\n",
      "  0%|                                                                                            | 0/5 [00:00<?, ?it/s]\u001b[A\u001b[A\u001b[A\u001b[A\u001b[A\u001b[A"
     ]
    },
    {
     "name": "stdout",
     "output_type": "stream",
     "text": [
      "Trial 0 dt {'max_depth': 11, 'criterion': 'gini'} 0.5615122579555772 knn {'weights': 'uniform', 'n_neighbors': 51} 0.6265206712268446 lr {'C': 0.1} 0.6823584494918533 svc {'kernel': 'rbf', 'gamma': 0.01, 'C': 100} 0.5607566104194437 lgbm {'scale_pos_weight': 1, 'num_leaves': 100, 'n_estimators': 100, 'min_child_samples': 350, 'boosting_type': 'gbdt'} 0.6545804725170946\n"
     ]
    },
    {
     "name": "stderr",
     "output_type": "stream",
     "text": [
      "\n",
      "\n",
      "\n",
      "\n",
      "\n",
      "\n",
      " 20%|████████████████▌                                                                  | 1/5 [03:41<14:45, 221.48s/it]\u001b[A\u001b[A\u001b[A\u001b[A\u001b[A\u001b[A"
     ]
    },
    {
     "name": "stdout",
     "output_type": "stream",
     "text": [
      "Trial 1 dt {'max_depth': 1, 'criterion': 'entropy'} 0.5660211897136161 knn {'weights': 'distance', 'n_neighbors': 31} 0.5973409235886357 lr {'C': 0.1} 0.6811871523126315 svc {'kernel': 'rbf', 'gamma': 0.01, 'C': 100} 0.5573337731213864 lgbm {'scale_pos_weight': 1, 'num_leaves': 200, 'n_estimators': 100, 'min_child_samples': 850, 'boosting_type': 'dart'} 0.6709587808101344\n"
     ]
    },
    {
     "name": "stderr",
     "output_type": "stream",
     "text": [
      "\n",
      "\n",
      "\n",
      "\n",
      "\n",
      "\n",
      " 40%|█████████████████████████████████▏                                                 | 2/5 [09:48<13:15, 265.08s/it]\u001b[A\u001b[A\u001b[A\u001b[A\u001b[A\u001b[A"
     ]
    },
    {
     "name": "stdout",
     "output_type": "stream",
     "text": [
      "Trial 2 dt {'max_depth': 11, 'criterion': 'entropy'} 0.559150527142831 knn {'weights': 'uniform', 'n_neighbors': 41} 0.6109643476799641 lr {'C': 0.1} 0.6835581230620541 svc {'kernel': 'rbf', 'gamma': 0.001, 'C': 1} 0.5626971945943686 lgbm {'scale_pos_weight': 1, 'num_leaves': 50, 'n_estimators': 200, 'min_child_samples': 850, 'boosting_type': 'dart'} 0.6738771977557342\n"
     ]
    },
    {
     "name": "stderr",
     "output_type": "stream",
     "text": [
      "\n",
      "\n",
      "\n",
      "\n",
      "\n",
      "\n",
      " 60%|█████████████████████████████████████████████████▊                                 | 3/5 [14:24<08:56, 268.49s/it]\u001b[A\u001b[A\u001b[A\u001b[A\u001b[A\u001b[A"
     ]
    },
    {
     "name": "stdout",
     "output_type": "stream",
     "text": [
      "Trial 3 dt {'max_depth': 11, 'criterion': 'gini'} 0.5564065843847991 knn {'weights': 'distance', 'n_neighbors': 51} 0.62191804482474 lr {'C': 0.1} 0.68185172616699 svc {'kernel': 'rbf', 'gamma': 0.001, 'C': 10} 0.5702614319127596 lgbm {'scale_pos_weight': 4, 'num_leaves': 300, 'n_estimators': 100, 'min_child_samples': 850, 'boosting_type': 'gbdt'} 0.6630210817031776\n"
     ]
    },
    {
     "name": "stderr",
     "output_type": "stream",
     "text": [
      "\n",
      "\n",
      "\n",
      "\n",
      "\n",
      "\n",
      " 80%|██████████████████████████████████████████████████████████████████▍                | 4/5 [18:18<04:18, 258.19s/it]\u001b[A\u001b[A\u001b[A\u001b[A\u001b[A\u001b[A"
     ]
    },
    {
     "name": "stdout",
     "output_type": "stream",
     "text": [
      "Trial 4 dt {'max_depth': 11, 'criterion': 'gini'} 0.5716502159124157 knn {'weights': 'distance', 'n_neighbors': 51} 0.6266426737011406 lr {'C': 0.1} 0.6833089923719392 svc {'kernel': 'rbf', 'gamma': 0.01, 'C': 10} 0.5624774630407371 lgbm {'scale_pos_weight': 1, 'num_leaves': 100, 'n_estimators': 100, 'min_child_samples': 350, 'boosting_type': 'goss'} 0.670031859815252\n"
     ]
    },
    {
     "name": "stderr",
     "output_type": "stream",
     "text": [
      "\n",
      "\n",
      "\n",
      "\n",
      "\n",
      "\n",
      "100%|███████████████████████████████████████████████████████████████████████████████████| 5/5 [22:21<00:00, 268.25s/it]\u001b[A\u001b[A\u001b[A\u001b[A\u001b[A\u001b[A"
     ]
    },
    {
     "name": "stdout",
     "output_type": "stream",
     "text": [
      "[0.55310415 0.56602119 0.5394324  0.56714977 0.56853471] [0.62207463 0.61355956 0.6108067  0.6145908  0.62381038] [0.68235845 0.68118715 0.68355812 0.68185173 0.68330899] [0.55676974 0.55058374 0.56562047 0.54872907 0.54474883] [0.67025799 0.6612907  0.66985163 0.65230957 0.66459423]\n"
     ]
    },
    {
     "name": "stderr",
     "output_type": "stream",
     "text": [
      "\n"
     ]
    }
   ],
   "source": [
    "# ncv - auc as metric\n",
    "for i in tqdm(range(NUM_TRIALS)):\n",
    "    inner_cv = KFold(n_splits=3, shuffle=True, random_state=i)\n",
    "    outer_cv = KFold(n_splits=3, shuffle=True, random_state=i)\n",
    "    scoring = 'roc_auc'\n",
    "    \n",
    "    # Non_nested parameter search and scoring\n",
    "    dt_clf = RandomizedSearchCV(estimator=dt, param_distributions=dt_grid, scoring=scoring, cv=inner_cv, n_iter=5)\n",
    "    knn_clf = RandomizedSearchCV(estimator=knn, param_distributions=knn_grid, scoring=scoring, cv=inner_cv, n_iter=5)\n",
    "    lr_clf = RandomizedSearchCV(estimator=lr, param_distributions=lr_grid, scoring=scoring, cv=inner_cv, n_iter=5)\n",
    "    svc_clf = RandomizedSearchCV(estimator=svc, param_distributions=svc_grid, scoring=scoring, cv=inner_cv, n_iter=5)\n",
    "    lgbm_clf = RandomizedSearchCV(estimator=lgbm, param_distributions=lgbm_grid, scoring=scoring, cv=inner_cv, n_iter=5)\n",
    "    \n",
    "    # Fit each model\n",
    "    dt_clf.fit(X_train_std_pca, Y_train)\n",
    "    knn_clf.fit(X_train_std_pca, Y_train)\n",
    "    lr_clf.fit(X_train_std_pca, Y_train)\n",
    "    svc_clf.fit(X_train_std_pca, Y_train)\n",
    "    lgbm_clf.fit(X_train_std_pca, Y_train)\n",
    "    \n",
    "    dt_non_nested_scores[i] = dt_clf.best_score_\n",
    "    knn_non_nested_scores[i] = knn_clf.best_score_\n",
    "    lr_non_nested_scores[i] = lr_clf.best_score_\n",
    "    svc_non_nested_scores[i] = svc_clf.best_score_\n",
    "    lgbm_non_nested_scores[i] = lgbm_clf.best_score_\n",
    "    \n",
    "    print(\"Trial\", i,\n",
    "          \"dt\", dt_clf.best_params_, dt_non_nested_scores[i],\n",
    "          \"knn\", knn_clf.best_params_, knn_non_nested_scores[i],\n",
    "          \"lr\", lr_clf.best_params_, lr_non_nested_scores[i],\n",
    "          \"svc\", svc_clf.best_params_, svc_non_nested_scores[i],\n",
    "          \"lgbm\", lgbm_clf.best_params_, lgbm_non_nested_scores[i]\n",
    "         )\n",
    "    \n",
    "    # Nested CV with parameter optimization\n",
    "    dt_nested_score = cross_val_score(estimator=dt_clf, X=X_train_std_pca, y=Y_train, cv=outer_cv)\n",
    "    dt_nested_scores[i] = dt_nested_score.mean()\n",
    "    knn_nested_score = cross_val_score(estimator=knn_clf, X=X_train_std_pca, y=Y_train, cv=outer_cv)\n",
    "    knn_nested_scores[i] = knn_nested_score.mean()\n",
    "    lr_nested_score = cross_val_score(estimator=lr_clf, X=X_train_std_pca, y=Y_train, cv=outer_cv)\n",
    "    lr_nested_scores[i] = lr_nested_score.mean()\n",
    "    svc_nested_score = cross_val_score(estimator=svc_clf, X=X_train_std_pca, y=Y_train, cv=outer_cv)\n",
    "    svc_nested_scores[i] = svc_nested_score.mean()\n",
    "    lgbm_nested_score = cross_val_score(estimator=lgbm_clf, X=X_train_std_pca, y=Y_train, cv=outer_cv)\n",
    "    lgbm_nested_scores[i] = lgbm_nested_score.mean()\n",
    "print(dt_nested_scores,\n",
    "      knn_nested_scores,\n",
    "      lr_nested_scores,\n",
    "      svc_nested_scores,\n",
    "      lgbm_nested_scores\n",
    "     )\n"
   ]
  },
  {
   "cell_type": "code",
   "execution_count": 46,
   "metadata": {},
   "outputs": [
    {
     "name": "stderr",
     "output_type": "stream",
     "text": [
      "\n",
      "\n",
      "\n",
      "\n",
      "\n",
      "\n",
      "  0%|                                                                                            | 0/5 [00:00<?, ?it/s]\u001b[A\u001b[A\u001b[A\u001b[A\u001b[A\u001b[A"
     ]
    },
    {
     "name": "stdout",
     "output_type": "stream",
     "text": [
      "Trial 0 dt {'max_depth': 51, 'criterion': 'gini'} 0.12350550549656598 knn {'weights': 'uniform', 'n_neighbors': 11} 0.0019782393669634025 lr {'C': 0.1} 0.0020964360587002098 svc {'kernel': 'rbf', 'gamma': 0.001, 'C': 1000} 0.04184853672152145 lgbm {'scale_pos_weight': 10, 'num_leaves': 100, 'n_estimators': 200, 'min_child_samples': 350, 'boosting_type': 'gbdt'} 0.26445593818538193\n"
     ]
    },
    {
     "name": "stderr",
     "output_type": "stream",
     "text": [
      "\n",
      "\n",
      "\n",
      "\n",
      "\n",
      "\n",
      " 20%|████████████████▌                                                                  | 1/5 [05:55<23:41, 355.32s/it]\u001b[A\u001b[A\u001b[A\u001b[A\u001b[A\u001b[A"
     ]
    },
    {
     "name": "stdout",
     "output_type": "stream",
     "text": [
      "Trial 1 dt {'max_depth': 51, 'criterion': 'entropy'} 0.1315284485411586 knn {'weights': 'distance', 'n_neighbors': 51} 0.0 lr {'C': 0.1} 0.0009551098376313276 svc {'kernel': 'rbf', 'gamma': 0.001, 'C': 1000} 0.03860616186843515 lgbm {'scale_pos_weight': 7, 'num_leaves': 250, 'n_estimators': 100, 'min_child_samples': 350, 'boosting_type': 'gbdt'} 0.23124332557229962\n"
     ]
    },
    {
     "name": "stderr",
     "output_type": "stream",
     "text": [
      "\n",
      "\n",
      "\n",
      "\n",
      "\n",
      "\n",
      " 40%|█████████████████████████████████▏                                                 | 2/5 [13:46<19:29, 389.95s/it]\u001b[A\u001b[A\u001b[A\u001b[A\u001b[A\u001b[A"
     ]
    },
    {
     "name": "stdout",
     "output_type": "stream",
     "text": [
      "Trial 2 dt {'max_depth': 51, 'criterion': 'gini'} 0.12279223081454417 knn {'weights': 'distance', 'n_neighbors': 11} 0.0 lr {'C': 0.1} 0.002109704641350211 svc {'kernel': 'rbf', 'gamma': 0.1, 'C': 1000} 0.01020840834183048 lgbm {'scale_pos_weight': 13, 'num_leaves': 300, 'n_estimators': 100, 'min_child_samples': 350, 'boosting_type': 'dart'} 0.5143820872532431\n"
     ]
    },
    {
     "name": "stderr",
     "output_type": "stream",
     "text": [
      "\n",
      "\n",
      "\n",
      "\n",
      "\n",
      "\n",
      " 60%|█████████████████████████████████████████████████▊                                 | 3/5 [18:25<11:53, 356.91s/it]\u001b[A\u001b[A\u001b[A\u001b[A\u001b[A\u001b[A"
     ]
    },
    {
     "name": "stdout",
     "output_type": "stream",
     "text": [
      "Trial 3 dt {'max_depth': 41, 'criterion': 'gini'} 0.1251809657365656 knn {'weights': 'uniform', 'n_neighbors': 1} 0.08193829300015419 lr {'C': 0.1} 0.001952175975945076 svc {'kernel': 'rbf', 'gamma': 0.001, 'C': 1000} 0.03797321521025671 lgbm {'scale_pos_weight': 10, 'num_leaves': 400, 'n_estimators': 200, 'min_child_samples': 350, 'boosting_type': 'gbdt'} 0.2526644812853949\n"
     ]
    },
    {
     "name": "stderr",
     "output_type": "stream",
     "text": [
      "\n",
      "\n",
      "\n",
      "\n",
      "\n",
      "\n",
      " 80%|██████████████████████████████████████████████████████████████████▍                | 4/5 [23:46<05:45, 345.94s/it]\u001b[A\u001b[A\u001b[A\u001b[A\u001b[A\u001b[A"
     ]
    },
    {
     "name": "stdout",
     "output_type": "stream",
     "text": [
      "Trial 4 dt {'max_depth': 31, 'criterion': 'gini'} 0.13891705797176268 knn {'weights': 'distance', 'n_neighbors': 11} 0.0010482180293501049 lr {'C': 0.1} 0.0009980039920159682 svc {'kernel': 'rbf', 'gamma': 0.01, 'C': 1} 0.0 lgbm {'scale_pos_weight': 4, 'num_leaves': 100, 'n_estimators': 100, 'min_child_samples': 100, 'boosting_type': 'goss'} 0.09079424832543244\n"
     ]
    },
    {
     "name": "stderr",
     "output_type": "stream",
     "text": [
      "\n",
      "\n",
      "\n",
      "\n",
      "\n",
      "\n",
      "100%|███████████████████████████████████████████████████████████████████████████████████| 5/5 [32:06<00:00, 385.37s/it]\u001b[A\u001b[A\u001b[A\u001b[A\u001b[A\u001b[A"
     ]
    },
    {
     "name": "stdout",
     "output_type": "stream",
     "text": [
      "[0.13084303 0.12404006 0.11224371 0.13301094 0.12544558] [0.08858357 0.05443812 0.02848101 0.08193829 0.05744486] [0.00209644 0.00095511 0.0021097  0.00195218 0.000998  ] [0.06116116 0.07642565 0.04148375 0.04386118 0.04036001] [0.38959818 0.44244934 0.3594395  0.53011281 0.53657692]\n"
     ]
    },
    {
     "name": "stderr",
     "output_type": "stream",
     "text": [
      "\n"
     ]
    }
   ],
   "source": [
    "# ncv - recall as metric\n",
    "for i in tqdm(range(NUM_TRIALS)):\n",
    "    inner_cv = KFold(n_splits=3, shuffle=True, random_state=i)\n",
    "    outer_cv = KFold(n_splits=3, shuffle=True, random_state=i)\n",
    "    scoring = 'recall'\n",
    "    \n",
    "    # Non_nested parameter search and scoring\n",
    "    dt_clf = RandomizedSearchCV(estimator=dt, param_distributions=dt_grid, scoring=scoring, cv=inner_cv, n_iter=5)\n",
    "    knn_clf = RandomizedSearchCV(estimator=knn, param_distributions=knn_grid, scoring=scoring, cv=inner_cv, n_iter=5)\n",
    "    lr_clf = RandomizedSearchCV(estimator=lr, param_distributions=lr_grid, scoring=scoring, cv=inner_cv, n_iter=5)\n",
    "    svc_clf = RandomizedSearchCV(estimator=svc, param_distributions=svc_grid, scoring=scoring, cv=inner_cv, n_iter=5)\n",
    "    lgbm_clf = RandomizedSearchCV(estimator=lgbm, param_distributions=lgbm_grid, scoring=scoring, cv=inner_cv, n_iter=5)\n",
    "    \n",
    "    # Fit each model\n",
    "    dt_clf.fit(X_train_std_pca, Y_train)\n",
    "    knn_clf.fit(X_train_std_pca, Y_train)\n",
    "    lr_clf.fit(X_train_std_pca, Y_train)\n",
    "    svc_clf.fit(X_train_std_pca, Y_train)\n",
    "    lgbm_clf.fit(X_train_std_pca, Y_train)\n",
    "    \n",
    "    dt_non_nested_scores[i] = dt_clf.best_score_\n",
    "    knn_non_nested_scores[i] = knn_clf.best_score_\n",
    "    lr_non_nested_scores[i] = lr_clf.best_score_\n",
    "    svc_non_nested_scores[i] = svc_clf.best_score_\n",
    "    lgbm_non_nested_scores[i] = lgbm_clf.best_score_\n",
    "    \n",
    "    print(\"Trial\", i,\n",
    "          \"dt\", dt_clf.best_params_, dt_non_nested_scores[i],\n",
    "          \"knn\", knn_clf.best_params_, knn_non_nested_scores[i],\n",
    "          \"lr\", lr_clf.best_params_, lr_non_nested_scores[i],\n",
    "          \"svc\", svc_clf.best_params_, svc_non_nested_scores[i],\n",
    "          \"lgbm\", lgbm_clf.best_params_, lgbm_non_nested_scores[i]\n",
    "         )\n",
    "    \n",
    "    # Nested CV with parameter optimization\n",
    "    dt_nested_score = cross_val_score(estimator=dt_clf, X=X_train_std_pca, y=Y_train, cv=outer_cv)\n",
    "    dt_nested_scores[i] = dt_nested_score.mean()\n",
    "    knn_nested_score = cross_val_score(estimator=knn_clf, X=X_train_std_pca, y=Y_train, cv=outer_cv)\n",
    "    knn_nested_scores[i] = knn_nested_score.mean()\n",
    "    lr_nested_score = cross_val_score(estimator=lr_clf, X=X_train_std_pca, y=Y_train, cv=outer_cv)\n",
    "    lr_nested_scores[i] = lr_nested_score.mean()\n",
    "    svc_nested_score = cross_val_score(estimator=svc_clf, X=X_train_std_pca, y=Y_train, cv=outer_cv)\n",
    "    svc_nested_scores[i] = svc_nested_score.mean()\n",
    "    lgbm_nested_score = cross_val_score(estimator=lgbm_clf, X=X_train_std_pca, y=Y_train, cv=outer_cv)\n",
    "    lgbm_nested_scores[i] = lgbm_nested_score.mean()\n",
    "print(dt_nested_scores,\n",
    "      knn_nested_scores,\n",
    "      lr_nested_scores,\n",
    "      svc_nested_scores,\n",
    "      lgbm_nested_scores\n",
    "     )"
   ]
  },
  {
   "cell_type": "code",
   "execution_count": 49,
   "metadata": {},
   "outputs": [
    {
     "name": "stderr",
     "output_type": "stream",
     "text": [
      "\n",
      "\n",
      "\n",
      "\n",
      "\n",
      "\n",
      "  0%|                                                                                            | 0/5 [00:00<?, ?it/s]\u001b[A\u001b[A\u001b[A\u001b[A\u001b[A\u001b[A"
     ]
    },
    {
     "name": "stdout",
     "output_type": "stream",
     "text": [
      "Trial 0 dt {'max_depth': 1, 'criterion': 'gini'} 0.9202439024390244 knn {'weights': 'uniform', 'n_neighbors': 51} 0.9202439024390244 lr {'C': 0.1} 0.9196747967479676 svc {'kernel': 'rbf', 'gamma': 0.01, 'C': 0.1} 0.9202439024390244 lgbm {'scale_pos_weight': 1, 'num_leaves': 250, 'n_estimators': 100, 'min_child_samples': 350, 'boosting_type': 'dart'} 0.9202439024390244\n"
     ]
    },
    {
     "name": "stderr",
     "output_type": "stream",
     "text": [
      "\n",
      "\n",
      "\n",
      "\n",
      "\n",
      "\n",
      " 20%|████████████████▌                                                                  | 1/5 [04:38<18:33, 278.49s/it]\u001b[A\u001b[A\u001b[A\u001b[A\u001b[A\u001b[A"
     ]
    },
    {
     "name": "stdout",
     "output_type": "stream",
     "text": [
      "Trial 1 dt {'max_depth': 21, 'criterion': 'gini'} 0.8524390243902439 knn {'weights': 'uniform', 'n_neighbors': 51} 0.9202439024390244 lr {'C': 0.1} 0.9199186991869919 svc {'kernel': 'rbf', 'gamma': 0.001, 'C': 1} 0.9202439024390244 lgbm {'scale_pos_weight': 1, 'num_leaves': 250, 'n_estimators': 500, 'min_child_samples': 600, 'boosting_type': 'gbdt'} 0.9182926829268293\n"
     ]
    },
    {
     "name": "stderr",
     "output_type": "stream",
     "text": [
      "\n",
      "\n",
      "\n",
      "\n",
      "\n",
      "\n",
      " 40%|█████████████████████████████████▏                                                 | 2/5 [10:29<15:00, 300.21s/it]\u001b[A\u001b[A\u001b[A\u001b[A\u001b[A\u001b[A"
     ]
    },
    {
     "name": "stdout",
     "output_type": "stream",
     "text": [
      "Trial 2 dt {'max_depth': 1, 'criterion': 'entropy'} 0.9202439024390244 knn {'weights': 'distance', 'n_neighbors': 31} 0.9202439024390244 lr {'C': 0.1} 0.92 svc {'kernel': 'rbf', 'gamma': 0.001, 'C': 0.1} 0.9202439024390244 lgbm {'scale_pos_weight': 13, 'num_leaves': 300, 'n_estimators': 100, 'min_child_samples': 100, 'boosting_type': 'dart'} 0.8247154471544715\n"
     ]
    },
    {
     "name": "stderr",
     "output_type": "stream",
     "text": [
      "\n",
      "\n",
      "\n",
      "\n",
      "\n",
      "\n",
      " 60%|█████████████████████████████████████████████████▊                                 | 3/5 [14:36<09:28, 284.14s/it]\u001b[A\u001b[A\u001b[A\u001b[A\u001b[A\u001b[A"
     ]
    },
    {
     "name": "stdout",
     "output_type": "stream",
     "text": [
      "Trial 3 dt {'max_depth': 1, 'criterion': 'gini'} 0.9202439024390244 knn {'weights': 'uniform', 'n_neighbors': 51} 0.9202439024390244 lr {'C': 0.1} 0.9198373983739838 svc {'kernel': 'rbf', 'gamma': 0.001, 'C': 1} 0.9202439024390244 lgbm {'scale_pos_weight': 1, 'num_leaves': 200, 'n_estimators': 500, 'min_child_samples': 850, 'boosting_type': 'goss'} 0.9202439024390244\n"
     ]
    },
    {
     "name": "stderr",
     "output_type": "stream",
     "text": [
      "\n",
      "\n",
      "\n",
      "\n",
      "\n",
      "\n",
      " 80%|██████████████████████████████████████████████████████████████████▍                | 4/5 [20:36<05:07, 307.18s/it]\u001b[A\u001b[A\u001b[A\u001b[A\u001b[A\u001b[A"
     ]
    },
    {
     "name": "stdout",
     "output_type": "stream",
     "text": [
      "Trial 4 dt {'max_depth': 1, 'criterion': 'gini'} 0.9202439024390244 knn {'weights': 'distance', 'n_neighbors': 51} 0.9202439024390244 lr {'C': 0.1} 0.9198373983739838 svc {'kernel': 'rbf', 'gamma': 0.1, 'C': 0.1} 0.9202439024390244 lgbm {'scale_pos_weight': 1, 'num_leaves': 50, 'n_estimators': 100, 'min_child_samples': 350, 'boosting_type': 'gbdt'} 0.9200813008130081\n"
     ]
    },
    {
     "name": "stderr",
     "output_type": "stream",
     "text": [
      "\n",
      "\n",
      "\n",
      "\n",
      "\n",
      "\n",
      "100%|███████████████████████████████████████████████████████████████████████████████████| 5/5 [24:37<00:00, 295.44s/it]\u001b[A\u001b[A\u001b[A\u001b[A\u001b[A\u001b[A"
     ]
    },
    {
     "name": "stdout",
     "output_type": "stream",
     "text": [
      "[0.90211382 0.9202439  0.9202439  0.90219512 0.9202439 ] [0.9202439 0.9202439 0.9202439 0.9201626 0.9202439] [0.9196748 0.9199187 0.92      0.9198374 0.9198374] [0.9202439 0.9202439 0.9202439 0.9201626 0.9202439] [0.85471545 0.91186992 0.9195122  0.90918699 0.92      ]\n"
     ]
    },
    {
     "name": "stderr",
     "output_type": "stream",
     "text": [
      "\n"
     ]
    }
   ],
   "source": [
    "# ncv - accuracy as metric\n",
    "for i in tqdm(range(NUM_TRIALS)):\n",
    "    inner_cv = KFold(n_splits=3, shuffle=True, random_state=i)\n",
    "    outer_cv = KFold(n_splits=3, shuffle=True, random_state=i)\n",
    "    scoring = 'accuracy'\n",
    "    \n",
    "    # Non_nested parameter search and scoring\n",
    "    dt_clf = RandomizedSearchCV(estimator=dt, param_distributions=dt_grid, scoring=scoring, cv=inner_cv, n_iter=5)\n",
    "    knn_clf = RandomizedSearchCV(estimator=knn, param_distributions=knn_grid, scoring=scoring, cv=inner_cv, n_iter=5)\n",
    "    lr_clf = RandomizedSearchCV(estimator=lr, param_distributions=lr_grid, scoring=scoring, cv=inner_cv, n_iter=5)\n",
    "    svc_clf = RandomizedSearchCV(estimator=svc, param_distributions=svc_grid, scoring=scoring, cv=inner_cv, n_iter=5)\n",
    "    lgbm_clf = RandomizedSearchCV(estimator=lgbm, param_distributions=lgbm_grid, scoring=scoring, cv=inner_cv, n_iter=5)\n",
    "    \n",
    "    # Fit each model\n",
    "    dt_clf.fit(X_train_std_pca, Y_train)\n",
    "    knn_clf.fit(X_train_std_pca, Y_train)\n",
    "    lr_clf.fit(X_train_std_pca, Y_train)\n",
    "    svc_clf.fit(X_train_std_pca, Y_train)\n",
    "    lgbm_clf.fit(X_train_std_pca, Y_train)\n",
    "    \n",
    "    dt_non_nested_scores[i] = dt_clf.best_score_\n",
    "    knn_non_nested_scores[i] = knn_clf.best_score_\n",
    "    lr_non_nested_scores[i] = lr_clf.best_score_\n",
    "    svc_non_nested_scores[i] = svc_clf.best_score_\n",
    "    lgbm_non_nested_scores[i] = lgbm_clf.best_score_\n",
    "    \n",
    "    print(\"Trial\", i,\n",
    "          \"dt\", dt_clf.best_params_, dt_non_nested_scores[i],\n",
    "          \"knn\", knn_clf.best_params_, knn_non_nested_scores[i],\n",
    "          \"lr\", lr_clf.best_params_, lr_non_nested_scores[i],\n",
    "          \"svc\", svc_clf.best_params_, svc_non_nested_scores[i],\n",
    "          \"lgbm\", lgbm_clf.best_params_, lgbm_non_nested_scores[i]\n",
    "         )\n",
    "    \n",
    "    # Nested CV with parameter optimization\n",
    "    dt_nested_score = cross_val_score(estimator=dt_clf, X=X_train_std_pca, y=Y_train, cv=outer_cv)\n",
    "    dt_nested_scores[i] = dt_nested_score.mean()\n",
    "    knn_nested_score = cross_val_score(estimator=knn_clf, X=X_train_std_pca, y=Y_train, cv=outer_cv)\n",
    "    knn_nested_scores[i] = knn_nested_score.mean()\n",
    "    lr_nested_score = cross_val_score(estimator=lr_clf, X=X_train_std_pca, y=Y_train, cv=outer_cv)\n",
    "    lr_nested_scores[i] = lr_nested_score.mean()\n",
    "    svc_nested_score = cross_val_score(estimator=svc_clf, X=X_train_std_pca, y=Y_train, cv=outer_cv)\n",
    "    svc_nested_scores[i] = svc_nested_score.mean()\n",
    "    lgbm_nested_score = cross_val_score(estimator=lgbm_clf, X=X_train_std_pca, y=Y_train, cv=outer_cv)\n",
    "    lgbm_nested_scores[i] = lgbm_nested_score.mean()\n",
    "print(dt_nested_scores,\n",
    "      knn_nested_scores,\n",
    "      lr_nested_scores,\n",
    "      svc_nested_scores,\n",
    "      lgbm_nested_scores\n",
    "     )"
   ]
  }
 ],
 "metadata": {
  "kernelspec": {
   "display_name": "Python 3",
   "language": "python",
   "name": "python3"
  },
  "language_info": {
   "codemirror_mode": {
    "name": "ipython",
    "version": 3
   },
   "file_extension": ".py",
   "mimetype": "text/x-python",
   "name": "python",
   "nbconvert_exporter": "python",
   "pygments_lexer": "ipython3",
   "version": "3.7.9"
  }
 },
 "nbformat": 4,
 "nbformat_minor": 4
}
