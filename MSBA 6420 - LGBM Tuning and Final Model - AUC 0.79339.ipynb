{
 "cells": [
  {
   "cell_type": "code",
   "execution_count": null,
   "metadata": {
    "colab": {
     "base_uri": "https://localhost:8080/"
    },
    "executionInfo": {
     "elapsed": 25806,
     "status": "ok",
     "timestamp": 1618958725486,
     "user": {
      "displayName": "Cathy Zheng",
      "photoUrl": "https://lh3.googleusercontent.com/a-/AOh14GgeEIAMr9kkBUBFTz-hz3igpvgeyGs5psZjgUVxuVU=s64",
      "userId": "11609748607540119320"
     },
     "user_tz": 300
    },
    "id": "zxprGLjntzvQ",
    "outputId": "766b0bfa-56ce-42dd-ab44-b5ade88daf10"
   },
   "outputs": [],
   "source": [
    "from google.colab import drive\n",
    "drive.mount('/content/drive')"
   ]
  },
  {
   "cell_type": "markdown",
   "metadata": {},
   "source": [
    "## Import Libraries and dataset"
   ]
  },
  {
   "cell_type": "code",
   "execution_count": 40,
   "metadata": {
    "executionInfo": {
     "elapsed": 501,
     "status": "ok",
     "timestamp": 1618967098306,
     "user": {
      "displayName": "Cathy Zheng",
      "photoUrl": "https://lh3.googleusercontent.com/a-/AOh14GgeEIAMr9kkBUBFTz-hz3igpvgeyGs5psZjgUVxuVU=s64",
      "userId": "11609748607540119320"
     },
     "user_tz": 300
    },
    "id": "eLnAhfu1ttBY"
   },
   "outputs": [],
   "source": [
    "import numpy as np\n",
    "import pandas as pd\n",
    "from lightgbm import LGBMClassifier\n",
    "from lightgbm import plot_importance\n",
    "from sklearn.model_selection import GridSearchCV, RandomizedSearchCV, KFold, train_test_split\n",
    "from sklearn.metrics import roc_auc_score, roc_curve, plot_roc_curve, plot_confusion_matrix\n",
    "from sklearn.decomposition import PCA"
   ]
  },
  {
   "cell_type": "code",
   "execution_count": 14,
   "metadata": {
    "executionInfo": {
     "elapsed": 46536,
     "status": "ok",
     "timestamp": 1618965250100,
     "user": {
      "displayName": "Cathy Zheng",
      "photoUrl": "https://lh3.googleusercontent.com/a-/AOh14GgeEIAMr9kkBUBFTz-hz3igpvgeyGs5psZjgUVxuVU=s64",
      "userId": "11609748607540119320"
     },
     "user_tz": 300
    },
    "id": "uapj4dY8ttBt"
   },
   "outputs": [],
   "source": [
    "# data from the feature engineering notebook\n",
    "train_feat = pd.read_pickle(\"/content/drive/MyDrive/project/home-credit-default-risk/train_feat3.pkl\")\n",
    "train_lab = pd.read_pickle(\"/content/drive/MyDrive/project/home-credit-default-risk/train_lab3.pkl\")\n",
    "test_feat = pd.read_pickle(\"/content/drive/MyDrive/project/home-credit-default-risk/test_feat3.pkl\")"
   ]
  },
  {
   "cell_type": "code",
   "execution_count": 15,
   "metadata": {
    "executionInfo": {
     "elapsed": 3599,
     "status": "ok",
     "timestamp": 1618965256710,
     "user": {
      "displayName": "Cathy Zheng",
      "photoUrl": "https://lh3.googleusercontent.com/a-/AOh14GgeEIAMr9kkBUBFTz-hz3igpvgeyGs5psZjgUVxuVU=s64",
      "userId": "11609748607540119320"
     },
     "user_tz": 300
    },
    "id": "veOgEFgpttBv"
   },
   "outputs": [],
   "source": [
    "# training-testing split\n",
    "X_train, X_val, y_train, y_val = train_test_split(train_feat, train_lab, test_size = 0.3,random_state = 6420)"
   ]
  },
  {
   "cell_type": "markdown",
   "metadata": {
    "id": "tYyfmDQPttBy"
   },
   "source": [
    "## Randomized Search"
   ]
  },
  {
   "cell_type": "code",
   "execution_count": null,
   "metadata": {
    "id": "Vvct2Y8OttBz"
   },
   "outputs": [],
   "source": [
    "# define function for randomized search\n",
    "def classifier_RandomSearch(X_train_input, X_test_input, y_train_input,\n",
    "                          classifier, param_grid, cv=KFold(n_splits=3, shuffle=True, random_state=6420)):\n",
    "\n",
    "    clf = RandomizedSearchCV(estimator=classifier, param_distributions =param_grid, cv=cv, scoring='roc_auc',\n",
    "                       verbose=1, n_iter=50)\n",
    "    clf.fit(X_train_input, y_train_input)\n",
    "    y_pred = clf.predict_proba(X_test_input)\n",
    "    print(clf.best_estimator_, clf.best_score_)\n",
    "    \n",
    "    return clf, y_pred"
   ]
  },
  {
   "cell_type": "code",
   "execution_count": null,
   "metadata": {
    "id": "hVk20WDhttB0"
   },
   "outputs": [],
   "source": [
    "# PCA feature reduction, please skip. it was attempted, but did not improve performance\n",
    "pca = PCA(70)\n",
    "X_train_pca = pca.fit_transform(X_train)\n",
    "X_val_pca = pca.transform(X_val)\n",
    "X_test_pca = pca.transform(test_feat)"
   ]
  },
  {
   "cell_type": "code",
   "execution_count": null,
   "metadata": {
    "id": "wDe3QlUzttB2",
    "outputId": "ad621818-44cb-43eb-b2f1-1059efa83235"
   },
   "outputs": [
    {
     "name": "stdout",
     "output_type": "stream",
     "text": [
      "Fitting 3 folds for each of 50 candidates, totalling 150 fits\n"
     ]
    },
    {
     "name": "stderr",
     "output_type": "stream",
     "text": [
      "[Parallel(n_jobs=1)]: Using backend SequentialBackend with 1 concurrent workers.\n",
      "[Parallel(n_jobs=1)]: Done 150 out of 150 | elapsed: 700.7min finished\n"
     ]
    },
    {
     "name": "stdout",
     "output_type": "stream",
     "text": [
      "LGBMClassifier(boosting_type='goss', class_weight=None, colsample_bytree=1.0,\n",
      "               importance_type='split', learning_rate=0.01, max_depth=-1,\n",
      "               min_child_samples=500, min_child_weight=10, min_split_gain=0.0,\n",
      "               n_estimators=1000, n_jobs=-1, num_leaves=140, objective=None,\n",
      "               random_state=None, reg_alpha=0.0, reg_lambda=0.0,\n",
      "               scale_pos_weight=1, silent=True, subsample=1.0,\n",
      "               subsample_for_bin=200000, subsample_freq=0) 0.7847769080373879\n"
     ]
    }
   ],
   "source": [
    "# Initial randomized search on 70% training data, yielding best model\n",
    "lgbm = LGBMClassifier()\n",
    "lgbm_grid = {'boosting_type': ['gbdt', 'dart', 'goss'],\n",
    "             'num_leaves': range(20, 200, 20),\n",
    "             'min_child_samples': range(100, 1000, 100),\n",
    "             'min_child_weight': [0.001,0.01, 0.1, 1, 10],\n",
    "             'scale_pos_weight': range(1, 15, 3),\n",
    "             'learning_rate': [0.001, 0.01, 0.1],\n",
    "             'n_estimators': [1000]}\n",
    "lgb_model, lgb_pred = classifier_RandomSearch(X_train, X_val, y_train, lgbm, lgbm_grid)"
   ]
  },
  {
   "cell_type": "code",
   "execution_count": null,
   "metadata": {
    "id": "7ixBiuvuttB5"
   },
   "outputs": [],
   "source": [
    "# confusion matrix\n",
    "lgb_model_train = LGBMClassifier(boosting_type='goss', class_weight=None, colsample_bytree=1.0,\n",
    "               importance_type='split', learning_rate=0.01, max_depth=-1,\n",
    "               min_child_samples=500, min_child_weight=10, min_split_gain=0.0,\n",
    "               n_estimators=1500, n_jobs=-1, num_leaves=140, objective=None,\n",
    "               random_state=None, reg_alpha=0.0, reg_lambda=0.0,\n",
    "               scale_pos_weight=1, silent=True, subsample=1.0,\n",
    "               subsample_for_bin=200000, subsample_freq=0)\n",
    "lgb_model_train.fit(X_train, y_train)\n"
   ]
  },
  {
   "cell_type": "code",
   "execution_count": null,
   "metadata": {
    "colab": {
     "base_uri": "https://localhost:8080/",
     "height": 297
    },
    "executionInfo": {
     "elapsed": 9186,
     "status": "ok",
     "timestamp": 1618846521419,
     "user": {
      "displayName": "Cathy Zheng",
      "photoUrl": "https://lh3.googleusercontent.com/a-/AOh14GgeEIAMr9kkBUBFTz-hz3igpvgeyGs5psZjgUVxuVU=s64",
      "userId": "11609748607540119320"
     },
     "user_tz": 300
    },
    "id": "h7tkVaNHxR3Q",
    "outputId": "7f18be89-dc0e-4bf2-b8d3-6ef888b87fd4"
   },
   "outputs": [
    {
     "data": {
      "text/plain": [
       "<sklearn.metrics._plot.confusion_matrix.ConfusionMatrixDisplay at 0x7f1600400d90>"
      ]
     },
     "execution_count": 9,
     "metadata": {
      "tags": []
     },
     "output_type": "execute_result"
    },
    {
     "data": {
      "image/png": "[encoded data removed]",
      "text/plain": [
       "<Figure size 432x288 with 2 Axes>"
      ]
     },
     "metadata": {
      "needs_background": "light",
      "tags": []
     },
     "output_type": "display_data"
    }
   ],
   "source": [
    "plot_confusion_matrix(lgb_model_train, X_val, y_val, values_format='d')"
   ]
  },
  {
   "cell_type": "code",
   "execution_count": null,
   "metadata": {
    "id": "sRtNOGaHttB4",
    "outputId": "11f38c10-b3e3-42e6-f84c-4e639fd82b57"
   },
   "outputs": [
    {
     "data": {
      "text/plain": [
       "LGBMClassifier(boosting_type='goss', class_weight=None, colsample_bytree=1.0,\n",
       "               importance_type='split', learning_rate=0.01, max_depth=-1,\n",
       "               min_child_samples=500, min_child_weight=10, min_split_gain=0.0,\n",
       "               n_estimators=2000, n_jobs=-1, num_leaves=140, objective=None,\n",
       "               random_state=None, reg_alpha=0.0, reg_lambda=0.0,\n",
       "               scale_pos_weight=1, silent=True, subsample=1.0,\n",
       "               subsample_for_bin=200000, subsample_freq=0)"
      ]
     },
     "execution_count": 4,
     "metadata": {
      "tags": []
     },
     "output_type": "execute_result"
    }
   ],
   "source": [
    "# 2000 estimators fitting all training data, 0.79247\n",
    "lgb_model = LGBMClassifier(boosting_type='goss', class_weight=None, colsample_bytree=1.0,\n",
    "               importance_type='split', learning_rate=0.01, max_depth=-1,\n",
    "               min_child_samples=500, min_child_weight=10, min_split_gain=0.0,\n",
    "               n_estimators=2000, n_jobs=-1, num_leaves=140, objective=None,\n",
    "               random_state=None, reg_alpha=0.0, reg_lambda=0.0,\n",
    "               scale_pos_weight=1, silent=True, subsample=1.0,\n",
    "               subsample_for_bin=200000, subsample_freq=0)\n",
    "lgb_model.fit(train_feat, train_lab)"
   ]
  },
  {
   "cell_type": "markdown",
   "metadata": {},
   "source": [
    "## Best Model"
   ]
  },
  {
   "cell_type": "code",
   "execution_count": 16,
   "metadata": {
    "colab": {
     "base_uri": "https://localhost:8080/"
    },
    "executionInfo": {
     "elapsed": 983959,
     "status": "ok",
     "timestamp": 1618966263664,
     "user": {
      "displayName": "Cathy Zheng",
      "photoUrl": "https://lh3.googleusercontent.com/a-/AOh14GgeEIAMr9kkBUBFTz-hz3igpvgeyGs5psZjgUVxuVU=s64",
      "userId": "11609748607540119320"
     },
     "user_tz": 300
    },
    "id": "EXNnrTDIttB5",
    "outputId": "d875b79d-cc4b-4812-bd74-07329d52b843"
   },
   "outputs": [
    {
     "data": {
      "text/plain": [
       "LGBMClassifier(boosting_type='goss', class_weight=None, colsample_bytree=1.0,\n",
       "               importance_type='split', learning_rate=0.01, max_depth=-1,\n",
       "               min_child_samples=500, min_child_weight=10, min_split_gain=0.0,\n",
       "               n_estimators=1500, n_jobs=-1, num_leaves=140, objective=None,\n",
       "               random_state=None, reg_alpha=0.0, reg_lambda=0.0,\n",
       "               scale_pos_weight=1, silent=True, subsample=1.0,\n",
       "               subsample_for_bin=200000, subsample_freq=0)"
      ]
     },
     "execution_count": 16,
     "metadata": {
      "tags": []
     },
     "output_type": "execute_result"
    }
   ],
   "source": [
    "# 1500 estimators fitting all training data 0.79339\n",
    "# BEST model \n",
    "lgb_model = LGBMClassifier(boosting_type='goss', class_weight=None, colsample_bytree=1.0,\n",
    "               importance_type='split', learning_rate=0.01, max_depth=-1,\n",
    "               min_child_samples=500, min_child_weight=10, min_split_gain=0.0,\n",
    "               n_estimators=1500, n_jobs=-1, num_leaves=140, objective=None,\n",
    "               random_state=None, reg_alpha=0.0, reg_lambda=0.0,\n",
    "               scale_pos_weight=1, silent=True, subsample=1.0,\n",
    "               subsample_for_bin=200000, subsample_freq=0)\n",
    "lgb_model.fit(train_feat, train_lab)"
   ]
  },
  {
   "cell_type": "code",
   "execution_count": 17,
   "metadata": {
    "colab": {
     "base_uri": "https://localhost:8080/"
    },
    "executionInfo": {
     "elapsed": 1283,
     "status": "ok",
     "timestamp": 1618966578877,
     "user": {
      "displayName": "Cathy Zheng",
      "photoUrl": "https://lh3.googleusercontent.com/a-/AOh14GgeEIAMr9kkBUBFTz-hz3igpvgeyGs5psZjgUVxuVU=s64",
      "userId": "11609748607540119320"
     },
     "user_tz": 300
    },
    "id": "IgbQoR4a3xNW",
    "outputId": "587bf581-8e29-4d9a-fd87-afce9eb169f3"
   },
   "outputs": [
    {
     "name": "stderr",
     "output_type": "stream",
     "text": [
      "/usr/local/lib/python3.7/dist-packages/sklearn/externals/joblib/__init__.py:15: FutureWarning: sklearn.externals.joblib is deprecated in 0.21 and will be removed in 0.23. Please import this functionality directly from joblib, which can be installed with: pip install joblib. If this warning is raised when loading pickled models, you may need to re-serialize those models with scikit-learn 0.21+.\n",
      "  warnings.warn(msg, category=FutureWarning)\n"
     ]
    },
    {
     "data": {
      "text/plain": [
       "['/content/drive/MyDrive/project/best_model.pkl']"
      ]
     },
     "execution_count": 17,
     "metadata": {
      "tags": []
     },
     "output_type": "execute_result"
    }
   ],
   "source": [
    "from sklearn.externals import joblib\n",
    "joblib.dump(lgb_model, '/content/drive/MyDrive/project/best_model.pkl')"
   ]
  },
  {
   "cell_type": "markdown",
   "metadata": {},
   "source": [
    "## Feature Importance"
   ]
  },
  {
   "cell_type": "code",
   "execution_count": 28,
   "metadata": {
    "executionInfo": {
     "elapsed": 867,
     "status": "ok",
     "timestamp": 1618966789025,
     "user": {
      "displayName": "Cathy Zheng",
      "photoUrl": "https://lh3.googleusercontent.com/a-/AOh14GgeEIAMr9kkBUBFTz-hz3igpvgeyGs5psZjgUVxuVU=s64",
      "userId": "11609748607540119320"
     },
     "user_tz": 300
    },
    "id": "CaVcU8bk3AaH"
   },
   "outputs": [],
   "source": [
    "feat_imp = pd.DataFrame(sorted(zip(lgb_model.feature_importances_,train_feat.columns)), columns=['Value','Feature']).sort_values(by=['Value'], ascending=False)"
   ]
  },
  {
   "cell_type": "code",
   "execution_count": 45,
   "metadata": {
    "executionInfo": {
     "elapsed": 611,
     "status": "ok",
     "timestamp": 1618967490885,
     "user": {
      "displayName": "Cathy Zheng",
      "photoUrl": "https://lh3.googleusercontent.com/a-/AOh14GgeEIAMr9kkBUBFTz-hz3igpvgeyGs5psZjgUVxuVU=s64",
      "userId": "11609748607540119320"
     },
     "user_tz": 300
    },
    "id": "eyp4NFCq-wTs"
   },
   "outputs": [],
   "source": [
    "feat_imp['weight'] = feat_imp['Value']/feat_imp['Value'].sum()"
   ]
  },
  {
   "cell_type": "code",
   "execution_count": 61,
   "metadata": {
    "colab": {
     "base_uri": "https://localhost:8080/",
     "height": 369
    },
    "executionInfo": {
     "elapsed": 997,
     "status": "ok",
     "timestamp": 1618968644480,
     "user": {
      "displayName": "Cathy Zheng",
      "photoUrl": "https://lh3.googleusercontent.com/a-/AOh14GgeEIAMr9kkBUBFTz-hz3igpvgeyGs5psZjgUVxuVU=s64",
      "userId": "11609748607540119320"
     },
     "user_tz": 300
    },
    "id": "0jHxTWyY-3oc",
    "outputId": "079e0799-35c1-4b4e-b315-a4b55c3148a3"
   },
   "outputs": [
    {
     "data": {
      "image/png": "[encoded data removed]",
      "text/plain": [
       "<Figure size 720x360 with 1 Axes>"
      ]
     },
     "metadata": {
      "needs_background": "light",
      "tags": []
     },
     "output_type": "display_data"
    }
   ],
   "source": [
    "import matplotlib.pyplot as plt\n",
    "import seaborn as sns\n",
    "\n",
    "plt.figure(figsize=(10, 5))\n",
    "sns.barplot(x=\"weight\", y=\"Feature\", data=feat_imp.iloc[:][:15], palette=\"light:seagreen_r\")\n",
    "plt.title('LightGBM Features')\n",
    "plt.tight_layout()\n",
    "plt.show()"
   ]
  },
  {
   "cell_type": "code",
   "execution_count": 62,
   "metadata": {
    "colab": {
     "base_uri": "https://localhost:8080/"
    },
    "executionInfo": {
     "elapsed": 452,
     "status": "ok",
     "timestamp": 1618968697392,
     "user": {
      "displayName": "Cathy Zheng",
      "photoUrl": "https://lh3.googleusercontent.com/a-/AOh14GgeEIAMr9kkBUBFTz-hz3igpvgeyGs5psZjgUVxuVU=s64",
      "userId": "11609748607540119320"
     },
     "user_tz": 300
    },
    "id": "Oo7bnog5DZwe",
    "outputId": "7ca00f5c-26fc-4b1b-bf05-0a01227d4954"
   },
   "outputs": [
    {
     "data": {
      "text/plain": [
       "0.19118589511928338"
      ]
     },
     "execution_count": 62,
     "metadata": {
      "tags": []
     },
     "output_type": "execute_result"
    }
   ],
   "source": [
    "feat_imp.iloc[:][:15]['Value'].sum()/feat_imp['Value'].sum()"
   ]
  },
  {
   "cell_type": "markdown",
   "metadata": {},
   "source": [
    "## Cost Analysis"
   ]
  },
  {
   "cell_type": "code",
   "execution_count": 1,
   "metadata": {},
   "outputs": [
    {
     "name": "stdout",
     "output_type": "stream",
     "text": [
      "4.424217790023347\n",
      "8807497.777874187\n"
     ]
    }
   ],
   "source": [
    "import numpy as np\n",
    "confm_final = np.array([[84514, 237], [7152, 351]])\n",
    "confm_naive = np.array([[84751, 0], [7503, 0]])\n",
    "costm = np.array([[4548, -1000], [-26895, 0]])\n",
    "# Source for profit per mortgage:\n",
    "# https://www.cnbc.com/2020/09/10/mortgage-lenders-just-saw-record-profit-and-expect-to-do-better-in-the-next-quarter.html\n",
    "# Source for loss per default mortgage (Table 9 avg for 2011-2013 - $*severity = loss):\n",
    "# https://www.urban.org/sites/default/files/publication/39566/2000092-Loss-Severity-on-Residential-Mortgages.pdf\n",
    "confm_final_norm = confm_final / confm_final.sum()\n",
    "confm_naive_norm = confm_naive / confm_naive.sum()\n",
    "cost_final = (confm_final_norm * costm).sum()\n",
    "cost_naive = (confm_naive_norm * costm).sum()\n",
    "pct_chg = (cost_final - cost_naive) / cost_naive * 100\n",
    "print(pct_chg)\n",
    "extra_profit = (cost_final - cost_naive) * 100000\n",
    "print(extra_profit)"
   ]
  },
  {
   "cell_type": "markdown",
   "metadata": {},
   "source": [
    "## Export Results"
   ]
  },
  {
   "cell_type": "code",
   "execution_count": null,
   "metadata": {
    "id": "Iw5tLSlGttB6"
   },
   "outputs": [],
   "source": [
    "#print(roc_auc_score(y_val, lgb_pred))\n",
    "#plot_roc_curve(lgb_model, X_val_pca, y_val)\n",
    "test = pd.read_csv(\"C:\\\\Users\\\\zheng\\\\Documents\\\\MSBA\\\\MSBA 6420 - Predictive Analytics\\\\project\\\\home-credit-default-risk\\\\application_test.csv\")"
   ]
  },
  {
   "cell_type": "code",
   "execution_count": null,
   "metadata": {
    "id": "PC3Q5CpIttB7"
   },
   "outputs": [],
   "source": [
    "test = pd.DataFrame(test.iloc[:,0])"
   ]
  },
  {
   "cell_type": "code",
   "execution_count": null,
   "metadata": {
    "id": "S_78gnrAttB7"
   },
   "outputs": [],
   "source": [
    "pred = lgb_model.predict_proba(test_feat)"
   ]
  },
  {
   "cell_type": "code",
   "execution_count": null,
   "metadata": {
    "id": "n4wlwtrDttB8"
   },
   "outputs": [],
   "source": [
    "answer = pd.DataFrame(data = pred, index = list(test['SK_ID_CURR'])).rename(columns={1:\"TARGET\"})"
   ]
  },
  {
   "cell_type": "code",
   "execution_count": null,
   "metadata": {
    "id": "qZmvPhhdttB8"
   },
   "outputs": [],
   "source": [
    "answer = answer.drop([0],axis=1)"
   ]
  },
  {
   "cell_type": "code",
   "execution_count": null,
   "metadata": {
    "id": "USSlKUnFttB9"
   },
   "outputs": [],
   "source": [
    "answer.to_csv(\"answer.csv\",header=True, index_label='SK_ID_CURR')"
   ]
  }
 ],
 "metadata": {
  "accelerator": "GPU",
  "colab": {
   "machine_shape": "hm",
   "name": "Models_trial2_more_features_BEST_0.79339.ipynb",
   "provenance": []
  },
  "kernelspec": {
   "display_name": "Python 3",
   "language": "python",
   "name": "python3"
  },
  "language_info": {
   "codemirror_mode": {
    "name": "ipython",
    "version": 3
   },
   "file_extension": ".py",
   "mimetype": "text/x-python",
   "name": "python",
   "nbconvert_exporter": "python",
   "pygments_lexer": "ipython3",
   "version": "3.7.9"
  }
 },
 "nbformat": 4,
 "nbformat_minor": 1
}
